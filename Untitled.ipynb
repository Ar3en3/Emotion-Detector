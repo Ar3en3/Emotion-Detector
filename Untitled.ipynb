{
 "cells": [
  {
   "cell_type": "code",
   "execution_count": 1,
   "id": "19f6dcd6-2302-42ee-ab40-4add1e91efbc",
   "metadata": {},
   "outputs": [
    {
     "name": "stdout",
     "output_type": "stream",
     "text": [
      "Device: cpu\n"
     ]
    }
   ],
   "source": [
    "# ----- Imports & setup -----\n",
    "import os, random, time, math, shutil\n",
    "from pathlib import Path\n",
    "from collections import Counter\n",
    "\n",
    "import numpy as np\n",
    "import torch\n",
    "import torch.nn as nn\n",
    "from torch.utils.data import DataLoader, WeightedRandomSampler\n",
    "\n",
    "from torchvision import transforms\n",
    "from torchvision.datasets import ImageFolder\n",
    "from PIL import Image\n",
    "\n",
    "import timm\n",
    "from sklearn.metrics import classification_report, confusion_matrix\n",
    "import matplotlib.pyplot as plt\n",
    "import seaborn as sns\n",
    "\n",
    "# Pretty plots\n",
    "plt.rcParams[\"figure.figsize\"] = (8, 5)\n",
    "plt.rcParams[\"figure.dpi\"] = 120\n",
    "sns.set_style(\"whitegrid\")\n",
    "\n",
    "# Reproducibility\n",
    "SEED = 42\n",
    "random.seed(SEED)\n",
    "np.random.seed(SEED)\n",
    "torch.manual_seed(SEED)\n",
    "torch.cuda.manual_seed_all(SEED)\n",
    "\n",
    "DEVICE = torch.device(\"cuda\" if torch.cuda.is_available() else \"cpu\")\n",
    "print(\"Device:\", DEVICE)\n"
   ]
  },
  {
   "cell_type": "code",
   "execution_count": 2,
   "id": "7abee986-3f1d-4fc5-9ed2-75e932ae4eac",
   "metadata": {},
   "outputs": [
    {
     "name": "stdout",
     "output_type": "stream",
     "text": [
      "DATA_DIR: C:\\Users\\Playtech\\AML ASS3 B.A.D\\data\n",
      "Removing junk folder: data\\train\\.ipynb_checkpoints\n",
      "Removing junk folder: data\\test\\.ipynb_checkpoints\n"
     ]
    }
   ],
   "source": [
    "# ----- Find your data folder -----\n",
    "candidates = [\n",
    "    Path(\"data\"),\n",
    "    Path(\"AML ASS3 B.A.D\") / \"data\",\n",
    "    Path(\"./data\"),\n",
    "]\n",
    "DATA_DIR = next((p for p in candidates if (p / \"train\").exists() and (p / \"test\").exists()), None)\n",
    "assert DATA_DIR is not None, f\"Couldn't find train/test under any of: {candidates}\"\n",
    "\n",
    "TRAIN_DIR = DATA_DIR / \"train\"\n",
    "TEST_DIR  = DATA_DIR / \"test\"\n",
    "print(\"DATA_DIR:\", DATA_DIR.resolve())\n",
    "\n",
    "# Remove junk (e.g., '.ipynb_checkpoints') so ImageFolder won't treat them as classes\n",
    "for root in [TRAIN_DIR, TEST_DIR]:\n",
    "    for sub in root.iterdir():\n",
    "        if sub.is_dir() and sub.name.startswith(\".\"):\n",
    "            print(f\"Removing junk folder: {sub}\")\n",
    "            shutil.rmtree(sub, ignore_errors=True)\n",
    "\n",
    "# ----- Transforms -----\n",
    "IMG_SIZE = 224\n",
    "mean, std = (0.5, 0.5, 0.5), (0.5, 0.5, 0.5)\n",
    "\n",
    "train_tfm = transforms.Compose([\n",
    "    transforms.Resize((IMG_SIZE, IMG_SIZE)),\n",
    "    transforms.RandomHorizontalFlip(0.5),\n",
    "    transforms.RandomRotation(12),\n",
    "    transforms.ColorJitter(brightness=0.15, contrast=0.15),\n",
    "    transforms.ToTensor(),\n",
    "    transforms.Normalize(mean, std),\n",
    "])\n",
    "\n",
    "test_tfm = transforms.Compose([\n",
    "    transforms.Resize((IMG_SIZE, IMG_SIZE)),\n",
    "    transforms.ToTensor(),\n",
    "    transforms.Normalize(mean, std),\n",
    "])\n",
    "\n",
    "# Only accept image files\n",
    "valid_exts = {\".jpg\", \".jpeg\", \".png\", \".bmp\", \".ppm\", \".pgm\", \".tif\", \".tiff\", \".webp\"}\n",
    "def is_image_file(path: str) -> bool:\n",
    "    return Path(path).suffix.lower() in valid_exts\n"
   ]
  },
  {
   "cell_type": "code",
   "execution_count": 3,
   "id": "62e8bef9-43d3-440d-a410-a10f0c3f5100",
   "metadata": {},
   "outputs": [
    {
     "name": "stdout",
     "output_type": "stream",
     "text": [
      "Classes: ['angry', 'fear', 'happy', 'neutral', 'sad', 'surprise']\n",
      "Per-class counts: {'angry': 3995, 'fear': 4097, 'happy': 7215, 'neutral': 4965, 'sad': 4830, 'surprise': 3171}\n",
      "Class weights: {'angry': 1.18, 'fear': 1.15, 'happy': 0.653, 'neutral': 0.949, 'sad': 0.976, 'surprise': 1.486}\n"
     ]
    }
   ],
   "source": [
    "# ----- Datasets -----\n",
    "train_ds = ImageFolder(TRAIN_DIR, transform=train_tfm, is_valid_file=is_image_file)\n",
    "test_ds  = ImageFolder(TEST_DIR,  transform=test_tfm,  is_valid_file=is_image_file)\n",
    "\n",
    "# Ensure both splits share the same classes\n",
    "assert test_ds.classes == train_ds.classes, f\"Class mismatch!\\ntrain: {train_ds.classes}\\ntest:  {test_ds.classes}\"\n",
    "\n",
    "CLASSES = train_ds.classes\n",
    "NUM_CLASSES = len(CLASSES)\n",
    "print(\"Classes:\", CLASSES)\n",
    "\n",
    "# Class distribution (for weights / sampler)\n",
    "labels = np.array(train_ds.targets)\n",
    "counts = np.array([np.sum(labels == i) for i in range(NUM_CLASSES)], dtype=np.float32)\n",
    "print(\"Per-class counts:\", dict(zip(CLASSES, counts.astype(int))))\n",
    "\n",
    "# Inverse-frequency weights (normalized)\n",
    "weights = counts.sum() / (counts * NUM_CLASSES)\n",
    "class_weights = torch.tensor(weights, dtype=torch.float32, device=DEVICE)\n",
    "print(\"Class weights:\", dict(zip(CLASSES, weights.round(3))))\n",
    "\n",
    "# ----- Loaders -----\n",
    "BATCH_SIZE   = 64\n",
    "NUM_WORKERS  = 2\n",
    "use_weighted_sampler = True   # set False to just shuffle\n",
    "\n",
    "if use_weighted_sampler:\n",
    "    sample_w = weights[labels]\n",
    "    sampler = WeightedRandomSampler(sample_w, num_samples=len(sample_w), replacement=True)\n",
    "    train_loader = DataLoader(train_ds, batch_size=BATCH_SIZE, sampler=sampler,\n",
    "                              num_workers=NUM_WORKERS, pin_memory=True)\n",
    "else:\n",
    "    train_loader = DataLoader(train_ds, batch_size=BATCH_SIZE, shuffle=True,\n",
    "                              num_workers=NUM_WORKERS, pin_memory=True)\n",
    "\n",
    "test_loader = DataLoader(test_ds, batch_size=BATCH_SIZE, shuffle=False,\n",
    "                         num_workers=NUM_WORKERS, pin_memory=True)\n",
    "\n",
    "# Loss with class weights\n",
    "criterion = nn.CrossEntropyLoss(weight=class_weights)\n"
   ]
  },
  {
   "cell_type": "code",
   "execution_count": 4,
   "id": "6b26c2e1-dea9-4582-8275-750f4366cc6a",
   "metadata": {},
   "outputs": [
    {
     "data": {
      "application/vnd.jupyter.widget-view+json": {
       "model_id": "31855eb4bdaf4121997ed647acc84ede",
       "version_major": 2,
       "version_minor": 0
      },
      "text/plain": [
       "model.safetensors:   0%|          | 0.00/178M [00:00<?, ?B/s]"
      ]
     },
     "metadata": {},
     "output_type": "display_data"
    },
    {
     "name": "stderr",
     "output_type": "stream",
     "text": [
      "C:\\Users\\Playtech\\anaconda3\\Lib\\site-packages\\huggingface_hub\\file_download.py:143: UserWarning: `huggingface_hub` cache-system uses symlinks by default to efficiently store duplicated files but your machine does not support them in C:\\Users\\Playtech\\.cache\\huggingface\\hub\\models--timm--convnext_tiny.fb_in22k. Caching files will still work but in a degraded version that might require more space on your disk. This warning can be disabled by setting the `HF_HUB_DISABLE_SYMLINKS_WARNING` environment variable. For more details, see https://huggingface.co/docs/huggingface_hub/how-to-cache#limitations.\n",
      "To support symlinks on Windows, you either need to activate Developer Mode or to run Python as an administrator. In order to activate developer mode, see this article: https://docs.microsoft.com/en-us/windows/apps/get-started/enable-your-device-for-development\n",
      "  warnings.warn(message)\n"
     ]
    }
   ],
   "source": [
    "# ----- Model -----\n",
    "BACKBONE = \"convnext_tiny.fb_in22k\"  # good small model; change if you like\n",
    "model = timm.create_model(BACKBONE, pretrained=True, num_classes=NUM_CLASSES)\n",
    "model.to(DEVICE)\n",
    "\n",
    "# ----- Optimizer/Scheduler -----\n",
    "BASE_LR = 3e-4\n",
    "optimizer = torch.optim.AdamW(model.parameters(), lr=BASE_LR, weight_decay=1e-4)\n",
    "scheduler = torch.optim.lr_scheduler.CosineAnnealingLR(optimizer, T_max=30, eta_min=3e-6)\n",
    "\n",
    "scaler = torch.cuda.amp.GradScaler(enabled=(DEVICE.type == \"cuda\"))\n"
   ]
  },
  {
   "cell_type": "code",
   "execution_count": 9,
   "id": "5e9ccb57-1243-4cf0-ba90-804c10b4f212",
   "metadata": {},
   "outputs": [
    {
     "name": "stdout",
     "output_type": "stream",
     "text": [
      "Training on cpu for 20 epochs …\n"
     ]
    },
    {
     "data": {
      "application/vnd.jupyter.widget-view+json": {
       "model_id": "",
       "version_major": 2,
       "version_minor": 0
      },
      "text/plain": [
       "train:   0%|          | 0/442 [00:03<?, ?it/s]"
      ]
     },
     "metadata": {},
     "output_type": "display_data"
    },
    {
     "data": {
      "application/vnd.jupyter.widget-view+json": {
       "model_id": "",
       "version_major": 2,
       "version_minor": 0
      },
      "text/plain": [
       "val  :   0%|          | 0/111 [00:03<?, ?it/s]"
      ]
     },
     "metadata": {},
     "output_type": "display_data"
    },
    {
     "name": "stdout",
     "output_type": "stream",
     "text": [
      "Ep 01 | train 1.048/0.586 | val 0.953/0.639 | time 3183.4s\n"
     ]
    },
    {
     "data": {
      "application/vnd.jupyter.widget-view+json": {
       "model_id": "",
       "version_major": 2,
       "version_minor": 0
      },
      "text/plain": [
       "train:   0%|          | 0/442 [00:03<?, ?it/s]"
      ]
     },
     "metadata": {},
     "output_type": "display_data"
    },
    {
     "data": {
      "application/vnd.jupyter.widget-view+json": {
       "model_id": "",
       "version_major": 2,
       "version_minor": 0
      },
      "text/plain": [
       "val  :   0%|          | 0/111 [00:03<?, ?it/s]"
      ]
     },
     "metadata": {},
     "output_type": "display_data"
    },
    {
     "name": "stdout",
     "output_type": "stream",
     "text": [
      "Ep 02 | train 0.775/0.705 | val 0.974/0.648 | time 3113.6s\n"
     ]
    },
    {
     "data": {
      "application/vnd.jupyter.widget-view+json": {
       "model_id": "",
       "version_major": 2,
       "version_minor": 0
      },
      "text/plain": [
       "train:   0%|          | 0/442 [00:03<?, ?it/s]"
      ]
     },
     "metadata": {},
     "output_type": "display_data"
    },
    {
     "data": {
      "application/vnd.jupyter.widget-view+json": {
       "model_id": "",
       "version_major": 2,
       "version_minor": 0
      },
      "text/plain": [
       "val  :   0%|          | 0/111 [00:03<?, ?it/s]"
      ]
     },
     "metadata": {},
     "output_type": "display_data"
    },
    {
     "name": "stdout",
     "output_type": "stream",
     "text": [
      "Ep 03 | train 0.619/0.773 | val 0.954/0.678 | time 3100.7s\n"
     ]
    },
    {
     "data": {
      "application/vnd.jupyter.widget-view+json": {
       "model_id": "",
       "version_major": 2,
       "version_minor": 0
      },
      "text/plain": [
       "train:   0%|          | 0/442 [00:03<?, ?it/s]"
      ]
     },
     "metadata": {},
     "output_type": "display_data"
    },
    {
     "data": {
      "application/vnd.jupyter.widget-view+json": {
       "model_id": "",
       "version_major": 2,
       "version_minor": 0
      },
      "text/plain": [
       "val  :   0%|          | 0/111 [00:03<?, ?it/s]"
      ]
     },
     "metadata": {},
     "output_type": "display_data"
    },
    {
     "name": "stdout",
     "output_type": "stream",
     "text": [
      "Ep 04 | train 0.487/0.823 | val 0.965/0.678 | time 3084.5s\n"
     ]
    },
    {
     "data": {
      "application/vnd.jupyter.widget-view+json": {
       "model_id": "",
       "version_major": 2,
       "version_minor": 0
      },
      "text/plain": [
       "train:   0%|          | 0/442 [00:03<?, ?it/s]"
      ]
     },
     "metadata": {},
     "output_type": "display_data"
    },
    {
     "data": {
      "application/vnd.jupyter.widget-view+json": {
       "model_id": "",
       "version_major": 2,
       "version_minor": 0
      },
      "text/plain": [
       "val  :   0%|          | 0/111 [00:03<?, ?it/s]"
      ]
     },
     "metadata": {},
     "output_type": "display_data"
    },
    {
     "name": "stdout",
     "output_type": "stream",
     "text": [
      "Ep 05 | train 0.384/0.865 | val 1.019/0.686 | time 3071.0s\n"
     ]
    },
    {
     "data": {
      "application/vnd.jupyter.widget-view+json": {
       "model_id": "",
       "version_major": 2,
       "version_minor": 0
      },
      "text/plain": [
       "train:   0%|          | 0/442 [00:03<?, ?it/s]"
      ]
     },
     "metadata": {},
     "output_type": "display_data"
    },
    {
     "data": {
      "application/vnd.jupyter.widget-view+json": {
       "model_id": "",
       "version_major": 2,
       "version_minor": 0
      },
      "text/plain": [
       "val  :   0%|          | 0/111 [00:03<?, ?it/s]"
      ]
     },
     "metadata": {},
     "output_type": "display_data"
    },
    {
     "name": "stdout",
     "output_type": "stream",
     "text": [
      "Ep 06 | train 0.296/0.897 | val 1.087/0.702 | time 3069.4s\n"
     ]
    },
    {
     "data": {
      "application/vnd.jupyter.widget-view+json": {
       "model_id": "",
       "version_major": 2,
       "version_minor": 0
      },
      "text/plain": [
       "train:   0%|          | 0/442 [00:03<?, ?it/s]"
      ]
     },
     "metadata": {},
     "output_type": "display_data"
    },
    {
     "data": {
      "application/vnd.jupyter.widget-view+json": {
       "model_id": "",
       "version_major": 2,
       "version_minor": 0
      },
      "text/plain": [
       "val  :   0%|          | 0/111 [00:03<?, ?it/s]"
      ]
     },
     "metadata": {},
     "output_type": "display_data"
    },
    {
     "name": "stdout",
     "output_type": "stream",
     "text": [
      "Ep 07 | train 0.223/0.922 | val 1.190/0.685 | time 3083.7s\n"
     ]
    },
    {
     "data": {
      "application/vnd.jupyter.widget-view+json": {
       "model_id": "",
       "version_major": 2,
       "version_minor": 0
      },
      "text/plain": [
       "train:   0%|          | 0/442 [00:03<?, ?it/s]"
      ]
     },
     "metadata": {},
     "output_type": "display_data"
    },
    {
     "data": {
      "application/vnd.jupyter.widget-view+json": {
       "model_id": "",
       "version_major": 2,
       "version_minor": 0
      },
      "text/plain": [
       "val  :   0%|          | 0/111 [00:03<?, ?it/s]"
      ]
     },
     "metadata": {},
     "output_type": "display_data"
    },
    {
     "name": "stdout",
     "output_type": "stream",
     "text": [
      "Ep 08 | train 0.176/0.937 | val 1.249/0.691 | time 3080.4s\n"
     ]
    },
    {
     "data": {
      "application/vnd.jupyter.widget-view+json": {
       "model_id": "",
       "version_major": 2,
       "version_minor": 0
      },
      "text/plain": [
       "train:   0%|          | 0/442 [00:03<?, ?it/s]"
      ]
     },
     "metadata": {},
     "output_type": "display_data"
    },
    {
     "data": {
      "application/vnd.jupyter.widget-view+json": {
       "model_id": "",
       "version_major": 2,
       "version_minor": 0
      },
      "text/plain": [
       "val  :   0%|          | 0/111 [00:03<?, ?it/s]"
      ]
     },
     "metadata": {},
     "output_type": "display_data"
    },
    {
     "name": "stdout",
     "output_type": "stream",
     "text": [
      "Ep 09 | train 0.146/0.948 | val 1.277/0.698 | time 3090.7s\n"
     ]
    },
    {
     "data": {
      "application/vnd.jupyter.widget-view+json": {
       "model_id": "",
       "version_major": 2,
       "version_minor": 0
      },
      "text/plain": [
       "train:   0%|          | 0/442 [00:03<?, ?it/s]"
      ]
     },
     "metadata": {},
     "output_type": "display_data"
    },
    {
     "data": {
      "application/vnd.jupyter.widget-view+json": {
       "model_id": "",
       "version_major": 2,
       "version_minor": 0
      },
      "text/plain": [
       "val  :   0%|          | 0/111 [00:03<?, ?it/s]"
      ]
     },
     "metadata": {},
     "output_type": "display_data"
    },
    {
     "name": "stdout",
     "output_type": "stream",
     "text": [
      "Ep 10 | train 0.116/0.959 | val 1.361/0.693 | time 3088.1s\n"
     ]
    },
    {
     "data": {
      "application/vnd.jupyter.widget-view+json": {
       "model_id": "",
       "version_major": 2,
       "version_minor": 0
      },
      "text/plain": [
       "train:   0%|          | 0/442 [00:03<?, ?it/s]"
      ]
     },
     "metadata": {},
     "output_type": "display_data"
    },
    {
     "data": {
      "application/vnd.jupyter.widget-view+json": {
       "model_id": "",
       "version_major": 2,
       "version_minor": 0
      },
      "text/plain": [
       "val  :   0%|          | 0/111 [00:03<?, ?it/s]"
      ]
     },
     "metadata": {},
     "output_type": "display_data"
    },
    {
     "name": "stdout",
     "output_type": "stream",
     "text": [
      "Ep 11 | train 0.094/0.967 | val 1.363/0.705 | time 3022.6s\n"
     ]
    },
    {
     "data": {
      "application/vnd.jupyter.widget-view+json": {
       "model_id": "",
       "version_major": 2,
       "version_minor": 0
      },
      "text/plain": [
       "train:   0%|          | 0/442 [00:03<?, ?it/s]"
      ]
     },
     "metadata": {},
     "output_type": "display_data"
    },
    {
     "data": {
      "application/vnd.jupyter.widget-view+json": {
       "model_id": "",
       "version_major": 2,
       "version_minor": 0
      },
      "text/plain": [
       "val  :   0%|          | 0/111 [00:03<?, ?it/s]"
      ]
     },
     "metadata": {},
     "output_type": "display_data"
    },
    {
     "name": "stdout",
     "output_type": "stream",
     "text": [
      "Ep 12 | train 0.078/0.973 | val 1.426/0.701 | time 3039.3s\n"
     ]
    },
    {
     "data": {
      "application/vnd.jupyter.widget-view+json": {
       "model_id": "",
       "version_major": 2,
       "version_minor": 0
      },
      "text/plain": [
       "train:   0%|          | 0/442 [00:03<?, ?it/s]"
      ]
     },
     "metadata": {},
     "output_type": "display_data"
    },
    {
     "data": {
      "application/vnd.jupyter.widget-view+json": {
       "model_id": "",
       "version_major": 2,
       "version_minor": 0
      },
      "text/plain": [
       "val  :   0%|          | 0/111 [00:03<?, ?it/s]"
      ]
     },
     "metadata": {},
     "output_type": "display_data"
    },
    {
     "name": "stdout",
     "output_type": "stream",
     "text": [
      "Ep 13 | train 0.072/0.975 | val 1.540/0.699 | time 3043.5s\n"
     ]
    },
    {
     "data": {
      "application/vnd.jupyter.widget-view+json": {
       "model_id": "",
       "version_major": 2,
       "version_minor": 0
      },
      "text/plain": [
       "train:   0%|          | 0/442 [00:03<?, ?it/s]"
      ]
     },
     "metadata": {},
     "output_type": "display_data"
    },
    {
     "data": {
      "application/vnd.jupyter.widget-view+json": {
       "model_id": "",
       "version_major": 2,
       "version_minor": 0
      },
      "text/plain": [
       "val  :   0%|          | 0/111 [00:03<?, ?it/s]"
      ]
     },
     "metadata": {},
     "output_type": "display_data"
    },
    {
     "name": "stdout",
     "output_type": "stream",
     "text": [
      "Ep 14 | train 0.061/0.978 | val 1.531/0.707 | time 3041.3s\n"
     ]
    },
    {
     "data": {
      "application/vnd.jupyter.widget-view+json": {
       "model_id": "",
       "version_major": 2,
       "version_minor": 0
      },
      "text/plain": [
       "train:   0%|          | 0/442 [00:03<?, ?it/s]"
      ]
     },
     "metadata": {},
     "output_type": "display_data"
    },
    {
     "data": {
      "application/vnd.jupyter.widget-view+json": {
       "model_id": "",
       "version_major": 2,
       "version_minor": 0
      },
      "text/plain": [
       "val  :   0%|          | 0/111 [00:03<?, ?it/s]"
      ]
     },
     "metadata": {},
     "output_type": "display_data"
    },
    {
     "name": "stdout",
     "output_type": "stream",
     "text": [
      "Ep 15 | train 0.051/0.982 | val 1.600/0.708 | time 3056.9s\n"
     ]
    },
    {
     "data": {
      "application/vnd.jupyter.widget-view+json": {
       "model_id": "",
       "version_major": 2,
       "version_minor": 0
      },
      "text/plain": [
       "train:   0%|          | 0/442 [00:03<?, ?it/s]"
      ]
     },
     "metadata": {},
     "output_type": "display_data"
    },
    {
     "data": {
      "application/vnd.jupyter.widget-view+json": {
       "model_id": "",
       "version_major": 2,
       "version_minor": 0
      },
      "text/plain": [
       "val  :   0%|          | 0/111 [00:03<?, ?it/s]"
      ]
     },
     "metadata": {},
     "output_type": "display_data"
    },
    {
     "name": "stdout",
     "output_type": "stream",
     "text": [
      "Ep 16 | train 0.043/0.985 | val 1.624/0.705 | time 3136.3s\n"
     ]
    },
    {
     "data": {
      "application/vnd.jupyter.widget-view+json": {
       "model_id": "",
       "version_major": 2,
       "version_minor": 0
      },
      "text/plain": [
       "train:   0%|          | 0/442 [00:03<?, ?it/s]"
      ]
     },
     "metadata": {},
     "output_type": "display_data"
    },
    {
     "data": {
      "application/vnd.jupyter.widget-view+json": {
       "model_id": "0ba4badebe7b4b23b7c428b8a9343537",
       "version_major": 2,
       "version_minor": 0
      },
      "text/plain": [
       "val  :   0%|          | 0/111 [00:03<?, ?it/s]"
      ]
     },
     "metadata": {},
     "output_type": "display_data"
    },
    {
     "name": "stdout",
     "output_type": "stream",
     "text": [
      "Ep 17 | train 0.038/0.987 | val 1.682/0.713 | time 3032.5s\n"
     ]
    },
    {
     "data": {
      "application/vnd.jupyter.widget-view+json": {
       "model_id": "",
       "version_major": 2,
       "version_minor": 0
      },
      "text/plain": [
       "train:   0%|          | 0/442 [00:03<?, ?it/s]"
      ]
     },
     "metadata": {},
     "output_type": "display_data"
    },
    {
     "data": {
      "application/vnd.jupyter.widget-view+json": {
       "model_id": "",
       "version_major": 2,
       "version_minor": 0
      },
      "text/plain": [
       "val  :   0%|          | 0/111 [00:03<?, ?it/s]"
      ]
     },
     "metadata": {},
     "output_type": "display_data"
    },
    {
     "name": "stdout",
     "output_type": "stream",
     "text": [
      "Ep 18 | train 0.025/0.992 | val 1.759/0.715 | time 3040.8s\n"
     ]
    },
    {
     "data": {
      "application/vnd.jupyter.widget-view+json": {
       "model_id": "",
       "version_major": 2,
       "version_minor": 0
      },
      "text/plain": [
       "train:   0%|          | 0/442 [00:03<?, ?it/s]"
      ]
     },
     "metadata": {},
     "output_type": "display_data"
    },
    {
     "data": {
      "application/vnd.jupyter.widget-view+json": {
       "model_id": "",
       "version_major": 2,
       "version_minor": 0
      },
      "text/plain": [
       "val  :   0%|          | 0/111 [00:03<?, ?it/s]"
      ]
     },
     "metadata": {},
     "output_type": "display_data"
    },
    {
     "name": "stdout",
     "output_type": "stream",
     "text": [
      "Ep 19 | train 0.021/0.993 | val 1.718/0.721 | time 3117.3s\n"
     ]
    },
    {
     "data": {
      "application/vnd.jupyter.widget-view+json": {
       "model_id": "",
       "version_major": 2,
       "version_minor": 0
      },
      "text/plain": [
       "train:   0%|          | 0/442 [00:03<?, ?it/s]"
      ]
     },
     "metadata": {},
     "output_type": "display_data"
    },
    {
     "data": {
      "application/vnd.jupyter.widget-view+json": {
       "model_id": "",
       "version_major": 2,
       "version_minor": 0
      },
      "text/plain": [
       "val  :   0%|          | 0/111 [00:03<?, ?it/s]"
      ]
     },
     "metadata": {},
     "output_type": "display_data"
    },
    {
     "name": "stdout",
     "output_type": "stream",
     "text": [
      "Ep 20 | train 0.020/0.993 | val 1.797/0.717 | time 3138.3s\n",
      "Best val acc: 0.7208545557104671\n"
     ]
    }
   ],
   "source": [
    "from tqdm.auto import tqdm\n",
    "\n",
    "EPOCHS   = 20\n",
    "PATIENCE = 5\n",
    "best_val_acc = -1.0\n",
    "wait = 0\n",
    "history = []\n",
    "\n",
    "def accuracy_from_logits(logits, y):\n",
    "    preds = torch.argmax(logits, dim=1)\n",
    "    return (preds == y).float().mean().item()\n",
    "\n",
    "def train_one_epoch(model, loader, criterion):\n",
    "    model.train()\n",
    "    total_loss, total_acc, total_n = 0.0, 0.0, 0\n",
    "\n",
    "    pbar = tqdm(loader, leave=False, desc=\"train\")\n",
    "    for x, y in pbar:\n",
    "        x, y = x.to(DEVICE, non_blocking=True), y.to(DEVICE, non_blocking=True)\n",
    "\n",
    "        optimizer.zero_grad(set_to_none=True)\n",
    "        # grad **enabled** for training\n",
    "        with torch.cuda.amp.autocast(enabled=(DEVICE.type == \"cuda\")):\n",
    "            logits = model(x)\n",
    "            loss   = criterion(logits, y)\n",
    "\n",
    "        scaler.scale(loss).backward()\n",
    "        scaler.step(optimizer)\n",
    "        scaler.update()\n",
    "\n",
    "        acc = accuracy_from_logits(logits, y)\n",
    "        bs  = x.size(0)\n",
    "        total_loss += loss.item() * bs\n",
    "        total_acc  += acc * bs\n",
    "        total_n    += bs\n",
    "\n",
    "        pbar.set_postfix(loss=f\"{total_loss/total_n:.3f}\", acc=f\"{total_acc/total_n:.3f}\")\n",
    "\n",
    "    return total_loss/total_n, total_acc/total_n\n",
    "\n",
    "@torch.no_grad()\n",
    "def eval_one_epoch(model, loader, criterion):\n",
    "    model.eval()\n",
    "    total_loss, total_acc, total_n = 0.0, 0.0, 0\n",
    "\n",
    "    pbar = tqdm(loader, leave=False, desc=\"val  \")\n",
    "    for x, y in pbar:\n",
    "        x, y   = x.to(DEVICE, non_blocking=True), y.to(DEVICE, non_blocking=True)\n",
    "        logits = model(x)\n",
    "        loss   = criterion(logits, y)\n",
    "\n",
    "        acc = accuracy_from_logits(logits, y)\n",
    "        bs  = x.size(0)\n",
    "        total_loss += loss.item() * bs\n",
    "        total_acc  += acc * bs\n",
    "        total_n    += bs\n",
    "\n",
    "        pbar.set_postfix(loss=f\"{total_loss/total_n:.3f}\", acc=f\"{total_acc/total_n:.3f}\")\n",
    "\n",
    "    return total_loss/total_n, total_acc/total_n\n",
    "\n",
    "\n",
    "print(f\"Training on {DEVICE} for {EPOCHS} epochs …\")\n",
    "for ep in range(1, EPOCHS + 1):\n",
    "    t0 = time.time()\n",
    "\n",
    "    tr_loss, tr_acc = train_one_epoch(model, train_loader, criterion)\n",
    "    va_loss, va_acc = eval_one_epoch(model,  test_loader,  criterion)  # or val_loader if you have one\n",
    "    scheduler.step()\n",
    "\n",
    "    history.append({\"ep\": ep, \"tr_loss\": tr_loss, \"tr_acc\": tr_acc,\n",
    "                    \"va_loss\": va_loss, \"va_acc\": va_acc})\n",
    "\n",
    "    print(f\"Ep {ep:02d} | train {tr_loss:.3f}/{tr_acc:.3f} \"\n",
    "          f\"| val {va_loss:.3f}/{va_acc:.3f} | time {time.time()-t0:.1f}s\")\n",
    "\n",
    "    # early stopping\n",
    "    if va_acc > best_val_acc:\n",
    "        best_val_acc = va_acc\n",
    "        wait = 0\n",
    "        torch.save({\"model\": model.state_dict(), \"classes\": CLASSES}, \"best_model.pt\")\n",
    "    else:\n",
    "        wait += 1\n",
    "        if wait >= PATIENCE:\n",
    "            print(\"Early stopping.\")\n",
    "            break\n",
    "\n",
    "print(\"Best val acc:\", best_val_acc)\n"
   ]
  },
  {
   "cell_type": "code",
   "execution_count": 11,
   "id": "46a43d7e-7ea2-4faf-a192-afe4245adbfd",
   "metadata": {},
   "outputs": [
    {
     "data": {
      "application/vnd.jupyter.widget-view+json": {
       "model_id": "",
       "version_major": 2,
       "version_minor": 0
      },
      "text/plain": [
       "  0%|          | 0/111 [00:03<?, ?it/s]"
      ]
     },
     "metadata": {},
     "output_type": "display_data"
    },
    {
     "name": "stdout",
     "output_type": "stream",
     "text": [
      "=== TEST RESULTS ===\n",
      "              precision    recall  f1-score   support\n",
      "\n",
      "       angry       0.63      0.67      0.65       959\n",
      "        fear       0.62      0.58      0.60      1024\n",
      "       happy       0.89      0.89      0.89      1774\n",
      "     neutral       0.66      0.69      0.67      1233\n",
      "         sad       0.59      0.58      0.59      1247\n",
      "    surprise       0.85      0.85      0.85       831\n",
      "\n",
      "    accuracy                           0.72      7068\n",
      "   macro avg       0.71      0.71      0.71      7068\n",
      "weighted avg       0.72      0.72      0.72      7068\n",
      "\n"
     ]
    },
    {
     "data": {
      "image/png": "[encoded data removed]",
      "text/plain": [
       "<Figure size 840x720 with 2 Axes>"
      ]
     },
     "metadata": {},
     "output_type": "display_data"
    }
   ],
   "source": [
    "# Load best checkpoint\n",
    "ckpt = torch.load(\"best_model.pt\", map_location=DEVICE)\n",
    "model.load_state_dict(ckpt[\"model\"])\n",
    "model.eval()\n",
    "\n",
    "# Collect predictions\n",
    "all_preds, all_true = [], []\n",
    "with torch.no_grad():\n",
    "    for x, y in tqdm(test_loader, leave=False):\n",
    "        x = x.to(DEVICE, non_blocking=True)\n",
    "        logits = model(x)\n",
    "        preds = torch.argmax(logits, dim=1).cpu().numpy()\n",
    "        all_preds.append(preds)\n",
    "        all_true.append(y.numpy())\n",
    "\n",
    "all_preds = np.concatenate(all_preds)\n",
    "all_true  = np.concatenate(all_true)\n",
    "\n",
    "# Report\n",
    "print(\"=== TEST RESULTS ===\")\n",
    "print(classification_report(all_true, all_preds, target_names=CLASSES, digits=2))\n",
    "\n",
    "# Confusion matrix\n",
    "cm = confusion_matrix(all_true, all_preds, labels=list(range(NUM_CLASSES)))\n",
    "plt.figure(figsize=(7,6))\n",
    "sns.heatmap(cm, annot=False, fmt=\"d\", cmap=\"magma\",\n",
    "            xticklabels=CLASSES, yticklabels=CLASSES)\n",
    "plt.title(\"Test Confusion Matrix\")\n",
    "plt.xlabel(\"Predicted\")\n",
    "plt.ylabel(\"True\")\n",
    "plt.tight_layout()\n",
    "plt.show()\n"
   ]
  },
  {
   "cell_type": "code",
   "execution_count": 15,
   "id": "fd2e0e4e-3c66-4cc4-8501-55e0129f1729",
   "metadata": {},
   "outputs": [],
   "source": [
    "def predict_image(img_path: str, model, transform=test_tfm, topk=3):\n",
    "    model.eval()\n",
    "    img = Image.open(img_path).convert(\"RGB\")\n",
    "    x = transform(img).unsqueeze(0).to(DEVICE)\n",
    "    with torch.no_grad():\n",
    "        logits = model(x)\n",
    "        probs = torch.softmax(logits, dim=1).cpu().numpy().ravel()\n",
    "    idxs = probs.argsort()[::-1][:topk]\n",
    "    return [(CLASSES[i], float(probs[i])) for i in idxs]\n",
    "\n",
    "# Example:\n",
    "# predict_image(\"path/to/your/test_image.jpg\", model)\n"
   ]
  },
  {
   "cell_type": "code",
   "execution_count": null,
   "id": "2214634d-401b-47a5-b4c3-714b1e3aeb84",
   "metadata": {},
   "outputs": [],
   "source": []
  },
  {
   "cell_type": "code",
   "execution_count": null,
   "id": "638c4c0e-63bf-4e04-ab33-696fa310706f",
   "metadata": {},
   "outputs": [],
   "source": []
  }
 ],
 "metadata": {
  "kernelspec": {
   "display_name": "Python [conda env:base] *",
   "language": "python",
   "name": "conda-base-py"
  },
  "language_info": {
   "codemirror_mode": {
    "name": "ipython",
    "version": 3
   },
   "file_extension": ".py",
   "mimetype": "text/x-python",
   "name": "python",
   "nbconvert_exporter": "python",
   "pygments_lexer": "ipython3",
   "version": "3.12.7"
  }
 },
 "nbformat": 4,
 "nbformat_minor": 5
}
